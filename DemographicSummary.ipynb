{
 "cells": [
  {
   "cell_type": "markdown",
   "metadata": {},
   "source": [
    "# Demographics Summary Pediatrics\n",
    "\n",
    "This notebook contain the R code to estimate the patient summary in terms of:\n",
    "- per site  (severe vs total cases)\n",
    "- per sex\n",
    "- per age group\n",
    "\n",
    "\n",
    "First we determine the path where all the files are located and load the R libraries required. "
   ]
  },
  {
   "cell_type": "code",
   "execution_count": null,
   "metadata": {},
   "outputs": [],
   "source": [
    "rm(list=ls())\n",
    "# Set working directory where the files are\n",
    "setwd(\"./4CE/phase1.1/latest/\")\n",
    "\n",
    "#############\n",
    "# LIBRARIES #\n",
    "#############\n",
    "library(dplyr)\n",
    "library(tidyr)"
   ]
  },
  {
   "cell_type": "markdown",
   "metadata": {},
   "source": [
    "Then we create a function to define the list with all the files to analyze."
   ]
  },
  {
   "cell_type": "code",
   "execution_count": null,
   "metadata": {},
   "outputs": [],
   "source": [
    "fileList <- function( path, pattern, pediatric ){\n",
    "  \n",
    "  fileListInput <- list.files( path = path,pattern = pattern)\n",
    "  fileListInput  <- fileListInput[! grepl( paste( c(\"FICHOS\",\"VA.csv\",\"BCH.csv\",\"CHOP.csv\", \n",
    "                                                    \"RP401.csv\") , collapse = \"|\"), x = fileListInput)]\n",
    "  \n",
    "  if( pediatric == TRUE){\n",
    "    fileListInput  <- fileListInput[ grepl( paste( c(\"PED\", \"UNCCH\"), collapse = \"|\"), x = fileListInput)]\n",
    "    fileListInput <- fileListInput[! grepl(\"APHPPED.csv\", x = fileListInput) ]\n",
    "  }else{\n",
    "    fileListInput  <- fileListInput[ !grepl( paste( \"PED\", collapse = \"|\"), x = fileListInput)]\n",
    "  }\n",
    "  return( fileListInput)\n",
    "}"
   ]
  },
  {
   "cell_type": "markdown",
   "metadata": {},
   "source": [
    "We create the list with all the pediatric files."
   ]
  },
  {
   "cell_type": "code",
   "execution_count": null,
   "metadata": {},
   "outputs": [],
   "source": [
    "select_pediatric = TRUE\n",
    "fileListDemog <- fileList( path = \"./\",pattern = \"Demog\", pediatric = select_pediatric)"
   ]
  },
  {
   "cell_type": "markdown",
   "metadata": {},
   "source": [
    "### Summary of number of total cases"
   ]
  },
  {
   "cell_type": "code",
   "execution_count": null,
   "metadata": {},
   "outputs": [],
   "source": [
    "allDemographics <- as.data.frame(matrix(ncol=7, nrow = length(fileListDemog)))\n",
    "colnames(allDemographics) <- c(\"site\", \"00to02\", \"03to05\", \"06to11\", \"12to17\",\"18to20\", \"all\")\n",
    "\n",
    "for( i in 1:length( fileListDemog ) ){\n",
    "  print(i)\n",
    "  selection <- read.delim( fileListDemog[i], sep = \",\", colClasses = \"character\")\n",
    "  if( grepl( \"UNC\", x=fileListDemog[i], fixed = TRUE) == TRUE ){\n",
    "    selection[ selection == 10] <- -99 \n",
    "  }\n",
    "  colnames( selection ) <- tolower( colnames( selection ))\n",
    "  colnames( selection ) <- trimws( colnames( selection ))\n",
    "  selection$age_group <- trimws( selection$age_group )\n",
    "  selection <- selection[ selection$sex == \"all\" &\n",
    "                            selection$race == \"all\",]\n",
    "  selection$patients <- selection$num_patients_all\n",
    "  \n",
    "  allDemographics$site[i] <- selection$siteid[1]\n",
    "  allDemographics$`00to02`[i] <- ifelse(\"00to02\" %in% selection$age_group, \n",
    "                                         selection[ selection$age_group == \"00to02\", \"patients\"] , NA) \n",
    "  allDemographics$`03to05`[i] <- ifelse(\"03to05\" %in% selection$age_group, \n",
    "                                         selection[ selection$age_group == \"03to05\", \"patients\"] , NA) \n",
    "  allDemographics$`06to11`[i] <- ifelse(\"06to11\" %in% selection$age_group, \n",
    "                                         selection[ selection$age_group == \"06to11\", \"patients\"] , NA) \n",
    "  allDemographics$`12to17`[i] <- ifelse(\"12to17\" %in% selection$age_group, \n",
    "                                         selection[ selection$age_group == \"12to17\", \"patients\"] , NA) \n",
    "  allDemographics$`18to20`[i] <- ifelse(\"18to20\" %in% selection$age_group, \n",
    "                                         selection[ selection$age_group == \"18to20\", \"patients\"] , NA)\n",
    "\n",
    "  allDemographics$all[i] <- selection[ selection$age_group == \"all\", \"patients\"] \n",
    "  \n",
    "}\n",
    "\n",
    "sum(as.numeric(allDemographics$all), na.rm = TRUE)"
   ]
  },
  {
   "cell_type": "markdown",
   "metadata": {},
   "source": [
    "### Summary of number of cases per sex\n",
    "For obfuscated values (-99), we transformed it following the next formula:\n",
    "0.5*obfuscationValue"
   ]
  },
  {
   "cell_type": "code",
   "execution_count": null,
   "metadata": {},
   "outputs": [],
   "source": [
    "sexSummary <- as.data.frame(matrix(ncol=4, nrow = length(fileListDemog)))\n",
    "colnames(sexSummary) <- c(\"site\", \"females\", \"males\", \"all\")\n",
    "\n",
    "obfuscation <- read.delim( file   = \"./4CE/phase1.1_pediatric/pediatric_obfuscation.txt\", \n",
    "                           header = TRUE, \n",
    "                           sep = \"\\t\")\n",
    "\n",
    "\n",
    "for( i in 1:length( fileListDemog ) ){\n",
    "  print(i)\n",
    "  selection <- read.delim( fileListDemog[i], sep = \",\", colClasses = \"character\")\n",
    "  if( grepl( \"UNC\", x=fileListDemog[i], fixed = TRUE) == TRUE ){\n",
    "    selection[ selection == 10] <- -99 \n",
    "  }\n",
    "  colnames( selection ) <- tolower( colnames( selection ))\n",
    "  colnames( selection ) <- trimws( colnames( selection ))\n",
    "  selection <- selection[ selection$age_group == \"all\" &\n",
    "                            selection$race == \"all\",]\n",
    "  \n",
    "  sexSummary$site[i] <- selection$siteid[1]\n",
    "  \n",
    "  obf <- obfuscation[ toupper(obfuscation$siteid) == toupper(selection$siteid[1]), \"obfuscation\"]\n",
    "  if( obf == \"none\" ){\n",
    "    sexSummary$females[i] <- selection[ selection$sex == \"female\", \"num_patients_all\"] \n",
    "    sexSummary$males[i] <- selection[ selection$sex == \"male\", \"num_patients_all\"]\n",
    "    sexSummary$all[i] <- selection[ selection$sex == \"all\", \"num_patients_all\"] \n",
    "  }else{\n",
    "    sexSummary$females[i] <- ifelse( as.numeric(selection[ selection$sex == \"female\", \"num_patients_all\"]) == -99, 0.5*as.numeric(obf), as.numeric(selection[ selection$sex == \"female\", \"num_patients_all\"])) \n",
    "    sexSummary$males[i] <- ifelse( as.numeric(selection[ selection$sex == \"male\", \"num_patients_all\"]) == -99, 0.5*as.numeric(obf), as.numeric(selection[ selection$sex == \"male\", \"num_patients_all\"])) \n",
    "    sexSummary$all[i] <- ifelse( as.numeric(selection[ selection$sex == \"all\", \"num_patients_all\"]) == -99, 0.5*as.numeric(obf), as.numeric(selection[ selection$sex == \"all\", \"num_patients_all\"])) \n",
    "  }\n",
    "}\n",
    "\n",
    "allFemales <- sum( as.numeric( sexSummary$females ))\n",
    "allFemales\n",
    "allMales <- sum( as.numeric( sexSummary$males ))\n",
    "allMales\n",
    "all <- sum( as.numeric( sexSummary$all ))\n",
    "all\n",
    "round( allFemales/all * 100, 2)\n",
    "round( allMales/all * 100, 2)"
   ]
  },
  {
   "cell_type": "markdown",
   "metadata": {},
   "source": [
    "### Summary of number of cases per age group\n",
    "For obfuscated values (-99), we transformed it following the next formula:\n",
    "0.5*obfuscationValue"
   ]
  },
  {
   "cell_type": "code",
   "execution_count": null,
   "metadata": {},
   "outputs": [],
   "source": [
    "ageSummary <- as.data.frame(matrix(ncol=7, nrow = length(fileListDemog)))\n",
    "colnames(ageSummary) <- c(\"site\", \"00to02\", \"03to05\", \"06to11\", \"12to17\",\"18to20\", \"all\")\n",
    "\n",
    "obfuscation <- read.delim( file   = \"./4CE/phase1.1_pediatric/pediatric_obfuscation.txt\", \n",
    "                           header = TRUE, \n",
    "                           sep = \"\\t\")\n",
    "\n",
    "\n",
    "for( i in 1:length( fileListDemog ) ){\n",
    "  print(i)\n",
    "  selection <- read.delim( fileListDemog[i], sep = \",\", colClasses = \"character\")\n",
    "  if( grepl( \"UNC\", x=fileListDemog[i], fixed = TRUE) == TRUE ){\n",
    "    selection[ selection == 10] <- -99 \n",
    "  }\n",
    "  colnames( selection ) <- tolower( colnames( selection ))\n",
    "  colnames( selection ) <- trimws( colnames( selection ))\n",
    "  selection$age_group <- trimws( selection$age_group )\n",
    "  selection <- selection[ selection$sex == \"all\" &\n",
    "                            selection$race == \"all\",]\n",
    "  \n",
    "  ageSummary$site[i] <- selection$siteid[1]\n",
    "  \n",
    "  obf <- obfuscation[ toupper(obfuscation$siteid) == toupper(selection$siteid[1]), \"obfuscation\"]\n",
    "  if( obf == \"none\" ){\n",
    "    ageSummary$`00to02`[i] <-  ifelse(\"00to02\" %in% selection$age_group, \n",
    "                                        selection[ selection$age_group == \"00to02\", \"num_patients_all\"], 0) \n",
    "    ageSummary$`03to05`[i] <-  ifelse(\"03to05\" %in% selection$age_group, \n",
    "                                            selection[ selection$age_group == \"03to05\", \"num_patients_all\"], 0)\n",
    "    ageSummary$`06to11`[i] <-  ifelse(\"06to11\" %in% selection$age_group, \n",
    "                                            selection[ selection$age_group == \"06to11\", \"num_patients_all\"], 0)\n",
    "    ageSummary$`12to17`[i] <-  ifelse(\"12to17\" %in% selection$age_group, \n",
    "                                            selection[ selection$age_group == \"12to17\", \"num_patients_all\"], 0)\n",
    "    ageSummary$`18to20`[i] <-  ifelse(\"18to20\" %in% selection$age_group, \n",
    "                                            selection[ selection$age_group == \"18to20\", \"num_patients_all\"], 0)\n",
    "    ageSummary$all[i] <- selection[ selection$age_group == \"all\", \"num_patients_all\"] \n",
    "  }else{\n",
    "    ageSummary$`00to02`[i] <- ifelse(\"00to02\" %in% selection$age_group, \n",
    "                                            ifelse( as.numeric(selection[ selection$age_group == \"00to02\", \n",
    "                                            \"num_patients_all\"]) == -99, 0.5*as.numeric(obf), \n",
    "                                            as.numeric(selection[ selection$age_group == \"00to02\", \"num_patients_all\"])),0) \n",
    "    ageSummary$`03to05`[i] <- ifelse(\"03to05\" %in% selection$age_group, \n",
    "                                            ifelse( as.numeric(selection[ selection$age_group == \"03to05\", \n",
    "                                            \"num_patients_all\"]) == -99, 0.5*as.numeric(obf), \n",
    "                                            as.numeric(selection[ selection$age_group == \"03to05\", \"num_patients_all\"])),0) \n",
    "    ageSummary$`06to11`[i] <- ifelse(\"06to11\" %in% selection$age_group,\n",
    "                                            ifelse( as.numeric(selection[ selection$age_group == \"06to11\", \n",
    "                                            \"num_patients_all\"]) == -99, 0.5*as.numeric(obf), \n",
    "                                            as.numeric(selection[ selection$age_group == \"06to11\", \"num_patients_all\"])),0)\n",
    "    ageSummary$`12to17`[i] <- ifelse(\"12to17\" %in% selection$age_group, \n",
    "                                            ifelse( as.numeric(selection[ selection$age_group == \"12to17\", \n",
    "                                            \"num_patients_all\"]) == -99, 0.5*as.numeric(obf), \n",
    "                                            as.numeric(selection[ selection$age_group == \"12to17\", \"num_patients_all\"])),0)     \n",
    "    ageSummary$`18to20`[i] <- ifelse(\"18to20\" %in% selection$age_group,\n",
    "                                            ifelse( as.numeric(selection[ selection$age_group == \"18to20\", \n",
    "                                            \"num_patients_all\"]) == -99, 0.5*as.numeric(obf), \n",
    "                                            as.numeric(selection[ selection$age_group == \"18to20\", \"num_patients_all\"])),0)\n",
    "    ageSummary$all[i] <- ifelse( as.numeric(selection[ selection$age_group == \"all\", \n",
    "                                            \"num_patients_all\"]) == -99, 0.5*as.numeric(obf), \n",
    "                                            as.numeric(selection[ selection$age_group == \"all\", \"num_patients_all\"])) \n",
    "  }\n",
    "  \n",
    "}\n",
    "\n",
    "sum( as.numeric( ageSummary$`00to02`))\n",
    "sum( as.numeric( ageSummary$`03to05`))\n",
    "sum( as.numeric( ageSummary$`06to11`))\n",
    "sum( as.numeric( ageSummary$`12to17`))\n",
    "sum( as.numeric( ageSummary$`18to20`))\n",
    "sum( as.numeric( ageSummary$all))\n",
    "\n",
    "round( sum( as.numeric( ageSummary$`00to02`))/ sum( as.numeric( ageSummary$all)) * 100)\n",
    "round( sum( as.numeric( ageSummary$`03to05`))/ sum( as.numeric( ageSummary$all)) * 100)\n",
    "round( sum( as.numeric( ageSummary$`06to11`))/ sum( as.numeric( ageSummary$all)) * 100)\n",
    "round( sum( as.numeric( ageSummary$`12to17`))/ sum( as.numeric( ageSummary$all)) * 100)\n",
    "round( sum( as.numeric( ageSummary$`18to20`))/ sum( as.numeric( ageSummary$all)) * 100)"
   ]
  }
 ],
 "metadata": {
  "kernelspec": {
   "display_name": "R",
   "language": "R",
   "name": "ir"
  }
 },
 "nbformat": 4,
 "nbformat_minor": 4
}
