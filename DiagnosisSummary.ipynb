{
 "cells": [
  {
   "cell_type": "markdown",
   "metadata": {},
   "source": [
    "# Diagnosis Summary Pediatrics\n",
    "\n",
    "This notebook contain the R code to estimate the diagnosis summary aggregated by:\n",
    "- site\n",
    "- country\n",
    "- all\n",
    "\n",
    "\n",
    "First we determine the path where all the files are located and load the R libraries required. "
   ]
  },
  {
   "cell_type": "code",
   "execution_count": null,
   "metadata": {},
   "outputs": [],
   "source": [
    "rm(list=ls())\n",
    "# Set working directory where the files are\n",
    "setwd(\"./4CE/phase1.1/latest/\")\n",
    "\n",
    "#############\n",
    "# LIBRARIES #\n",
    "#############\n",
    "library(dplyr)\n",
    "library(tidyr)"
   ]
  },
  {
   "cell_type": "markdown",
   "metadata": {},
   "source": [
    "Then we create a function to define the list with all the files to analyze."
   ]
  },
  {
   "cell_type": "code",
   "execution_count": null,
   "metadata": {},
   "outputs": [],
   "source": [
    "fileList <- function( path, pattern, pediatric ){\n",
    "  \n",
    "  fileListInput <- list.files( path = path,pattern = pattern)\n",
    "  #remove old files not in use anymore\n",
    "  fileListInput  <- fileListInput[! grepl( paste( c(\"FICHOS\",\"VA.csv\",\"BCH.csv\",\"CHOP.csv\", \n",
    "                                                    \"RP401.csv\",\"UAB\") , collapse = \"|\"), x = fileListInput)]\n",
    "  \n",
    "  if( pediatric == TRUE){\n",
    "    fileListInput  <- fileListInput[ grepl( paste( c(\"PED\", \"UNCCH\"), collapse = \"|\"), x = fileListInput)]\n",
    "    fileListInput <- fileListInput[! grepl( paste( c(\"APHPPED.csv\"), collapse = \"|\"), x = fileListInput) ]\n",
    "  }else{\n",
    "    fileListInput  <- fileListInput[ !grepl( paste( c(\"PED\", \"BCH\", \"CHOP\", \"RP401\", \"UNCCH\", \"UAB\" ), collapse = \"|\"), x = fileListInput)]\n",
    "  }\n",
    "  return( fileListInput)\n",
    "}"
   ]
  },
  {
   "cell_type": "markdown",
   "metadata": {},
   "source": [
    "We create another function to aggregate the diagnosis counts by country or by all. "
   ]
  },
  {
   "cell_type": "code",
   "execution_count": null,
   "metadata": {},
   "outputs": [],
   "source": [
    "groupData <- function( input, aggregation ){\n",
    "  if( aggregation == \"Country\" ){\n",
    "    if( select_pediatric == TRUE ){\n",
    "      siteMaping <- read.delim(\"./phase1.1/mappingFiles/SiteID_Map_Pediatric_07-23-20.csv\", colClasses = \"character\", sep=\",\")\n",
    "    }else{\n",
    "      siteMaping <- read.delim(\"./phase1.1/mappingFiles/SiteID_Map_Non_Pediatric_07-23-2020.csv\", colClasses = \"character\", sep=\",\")\n",
    "    }\n",
    "    siteMaping <- siteMaping[,c(\"Acronym\", \"Country\")]\n",
    "    siteMaping$Acronym <- toupper( siteMaping$Acronym )\n",
    "    input$siteid <- toupper( input$siteid)\n",
    "    toanalyze <- merge( input, siteMaping, by.x = \"siteid\", by.y = \"Acronym\", all.x = TRUE )\n",
    "    \n",
    "    toanalyzebyCountry <- toanalyze[, -1]\n",
    "    \n",
    "    #icd description\n",
    "    mapping <- read.delim(\"./phase1.1/mappingFiles/act_mapping.tsv\", sep = \"\\t\")\n",
    "    mapping <- unique( mapping[, c(\"IcdCode\", \"IcdVersion\", \"Level2\")] )\n",
    "    colnames(mapping) <- c(\"icd\", \"icd_version\", \"description\" )\n",
    "    \n",
    "    #we map according to the pair ICD + version to avoid issues when same code is present in ICD9 and ICD10 but refer to different diagnosis\n",
    "    mapping$icdPair <- paste0( mapping$icd, \"-\", mapping$icd_version)\n",
    "    \n",
    "    toanalyzebyCountry$icdPair <- paste0( toanalyzebyCountry$icd_code_3chars, \"-\", toanalyzebyCountry$icd_version)\n",
    "    toanalyzebyCountry <- merge( toanalyzebyCountry, mapping, by = \"icdPair\", all.x = TRUE)\n",
    "    toanalyzebyCountry <- toanalyzebyCountry[, c(4,6,2,9)]\n",
    "    byCountryOutput <- toanalyzebyCountry %>% \n",
    "      group_by(Country, description, icd_code_3chars) %>% \n",
    "      dplyr::summarise_all(~{sum(.x, na.rm = any(!is.na(.x)))})\n",
    "    \n",
    "    output <- as.data.frame( byCountryOutput )\n",
    "  }\n",
    "  if( aggregation == \"All\"){\n",
    "    byAll <- input[, -1]\n",
    "    \n",
    "    #icd description\n",
    "    #mapping <- read.delim(\"./mappingFiles/2020AA_Icd9_Icd10_Dictionary.txt\", colClasses = \"character\")\n",
    "    mapping <- read.delim(\"./phase1.1/mappingFiles/act_mapping.tsv\", sep = \"\\t\")\n",
    "    mapping <- unique( mapping[, c(\"IcdCode\", \"IcdVersion\", \"Level2\")] )\n",
    "    colnames(mapping) <- c(\"icd\", \"icd_version\", \"description\" )\n",
    "    \n",
    "    #we map according to the pair ICD + version to avoid issues when same code is present in ICD9 and ICD10 but refer to different diagnosis\n",
    "    mapping$icdPair <- paste0( mapping$icd, \"-\", mapping$icd_version)\n",
    "    \n",
    "    byAll$icdPair <- paste0( byAll$icd_code_3chars, \"-\", byAll$icd_version)\n",
    "    byAll <- merge( byAll, mapping, by = \"icdPair\", all.x = TRUE)\n",
    "    byAll <- byAll[! is.na (byAll$icd ),]\n",
    "    byAll$description_code <- paste0( byAll$description, \"*\", byAll$icd_code_3chars)\n",
    "    \n",
    "    byAll <- byAll[, c(4:5,9)]\n",
    "    \n",
    "    byAllOutput <- byAll %>% \n",
    "      group_by(description_code) %>% \n",
    "      dplyr::summarise_all(~{sum(.x, na.rm = any(!is.na(.x)))})\n",
    "    \n",
    "    output <- as.data.frame( byAllOutput )\n",
    "    \n",
    "  }\n",
    "  return( output )\n",
    "}"
   ]
  },
  {
   "cell_type": "code",
   "execution_count": null,
   "metadata": {},
   "outputs": [],
   "source": [
    "aggregateCounts <- function( inputData, aggregationType, codeSelection = FALSE ){\n",
    "  if( codeSelection != FALSE){\n",
    "    inputData <- inputData[ inputData$icd_code_3chars %in% codeSelection, ]\n",
    "  }\n",
    "  if( aggregationType == \"All\"){\n",
    "    toanalyze <- groupData( input = inputData, aggregation = aggregationType )\n",
    "    \n",
    "    toanalyze$code <- sapply(strsplit( as.character(toanalyze$description_code), \"[*]\"), '[', 2)\n",
    "    toanalyze$description<- sapply(strsplit( as.character(toanalyze$description_code), \"[*]\"), '[', 1)\n",
    "    \n",
    "    toanalyze <- toanalyze[ order( toanalyze$num_patients_all_since_admission_diagnosis, decreasing = TRUE, na.last = TRUE), ]\n",
    "    toanalyze <- toanalyze[, c(4,5,2:3)]\n",
    "    toanalyze$totalPatients <- sum(as.numeric(allDemographics$totalPatients))\n",
    "    toanalyze$perc_patients_all_since_admission_diagnosis <- round(100*toanalyze$num_patients_all_since_admission_diagnosis/toanalyze$totalPatients,2)\n",
    "    \n",
    "    \n",
    "  }else if(aggregationType == \"Country\"){\n",
    "    toanalyze <- groupData( input = inputData, aggregation = aggregationType )\n",
    "    toanalyze <- toanalyze[ order( toanalyze$num_patients_all_since_admission_diagnosis, decreasing = TRUE, na.last = TRUE), ]\n",
    "    \n",
    "    ##add total counts and percentage per country\n",
    "    if( select_pediatric == TRUE){\n",
    "      siteMaping <- read.delim(\"./phase1.1/mappingFiles/SiteID_Map_Pediatric_07-23-20.csv\", colClasses = \"character\", sep=\",\")\n",
    "    }else{\n",
    "      siteMaping <- read.delim(\"./phase1.1/mappingFiles/SiteID_Map_Non_Pediatric_07-23-2020.csv\", colClasses = \"character\", sep=\",\")\n",
    "    }\n",
    "    siteMaping <- siteMaping[,c(\"Acronym\", \"Country\")]\n",
    "    siteMaping$Acronym <- toupper( siteMaping$Acronym)\n",
    "    allDemographics$siteid <- toupper( allDemographics$siteid )\n",
    "    demog <- merge( allDemographics, siteMaping, by.x = \"siteid\", by.y = \"Acronym\", all.x = TRUE)\n",
    "    demog <- demog[,c (\"Country\", \"totalPatients\")]\n",
    "    demog$totalPatients <- as.numeric( demog$totalPatients)\n",
    "    demogCounts <- as.data.frame( demog %>% \n",
    "                                    group_by(Country) %>% \n",
    "                                    dplyr::summarise_all(~{sum(.x, na.rm = any(!is.na(.x)))}))\n",
    "    \n",
    "    toanalyze <- merge( toanalyze, demogCounts, by = \"Country\", all.x = TRUE)\n",
    "    toanalyze$perc_patients_since_adimission_diagnosis <- round(100*toanalyze$num_patients_all_since_admission_diagnosis/toanalyze$totalPatients,2)\n",
    "  }else if( aggregationType == \"Site\"){\n",
    "    \n",
    "    #icd description\n",
    "    mapping <- read.delim(\"./phase1.1/mappingFiles/act_mapping.tsv\", sep = \"\\t\")\n",
    "    mapping <- unique( mapping[, c(\"IcdCode\", \"IcdVersion\", \"Level2\")] )\n",
    "    colnames(mapping) <- c(\"icd\", \"icd_version\", \"description\" )\n",
    "    \n",
    "    #we map according to the pair ICD + version to avoid issues when same code is present in ICD9 and ICD10 but refer to different diagnosis\n",
    "    mapping$icdPair <- paste0( mapping$icd, \"-\", mapping$icd_version)\n",
    "    \n",
    "    inputData$icdPair <- paste0( inputData$icd_code_3chars, \"-\", inputData$icd_version)\n",
    "    inputData <- merge( inputData, mapping, by = \"icdPair\", all.x = TRUE)\n",
    "    \n",
    "    \n",
    "    if( select_pediatric == TRUE){\n",
    "      siteMaping <- read.delim(\"./phase1.1/mappingFiles/SiteID_Map_Pediatric_07-23-20.csv\", colClasses = \"character\", sep=\",\")\n",
    "      inputData <- merge( inputData, siteMaping, by.x = \"siteid\", by.y = \"Acronym\", all.x = TRUE )\n",
    "      toanalyze <- inputData[, c(11,9,7,5,6)]\n",
    "      toanalyze$perc_patients_since_adimission_diagnosis <- round(100*toanalyze$num_patients_all_since_admission_diagnosis/toanalyze$totalPatients,2)\n",
    "      \n",
    "    }else{\n",
    "      ## ICSM: merge together all ICSM data ##\n",
    "      ICSMdata <- inputData[inputData$siteid %in% c( \"ICSM1\", \"ICSM20\", \"ICSM5\" ), c(-1,-2)]\n",
    "      ICSM <- as.data.frame(ICSMdata %>% \n",
    "                              group_by(icd_code_3chars, icd_version.x, icd, icd_version.y, description) %>% \n",
    "                              dplyr::summarise_all(~{sum(.x, na.rm = any(!is.na(.x)))}) %>%\n",
    "                              mutate( siteid = \"ICSM\"))\n",
    "      \n",
    "      #remove the individual ICSM sets and add the aggregated one\n",
    "      inputData <- inputData[ ! inputData$siteid %in% c( \"ICSM1\", \"ICSM20\", \"ICSM5\" ), -1 ]\n",
    "      inputData <- rbind( inputData, ICSM )\n",
    "      \n",
    "      siteMaping <- read.delim(\"./phase1.1/mappingFiles/SiteID_Map_Non_Pediatric_07-23-2020.csv\", colClasses = \"character\", sep=\",\")\n",
    "      inputData <- merge( inputData, siteMaping, by.x = \"siteid\", by.y = \"Acronym\", all.x = TRUE )\n",
    "      toanalyze <- inputData[, c(11,9,7,5,6)]\n",
    "      toanalyze$perc_patients_before_admission_diagnosis <- round(100*toanalyze$num_patients_all_before_admission_diagnosis/toanalyze$totalPatients,2)\n",
    "      toanalyze$perc_patients_since_adimission_diagnosis <- round(100*toanalyze$num_patients_all_since_admission_diagnosis/toanalyze$totalPatients,2)\n",
    "    }\n",
    "    \n",
    "    \n",
    "  }\n",
    "  return( toanalyze )\n",
    "}"
   ]
  },
  {
   "cell_type": "code",
   "execution_count": null,
   "metadata": {},
   "outputs": [],
   "source": [
    "###Create the output file when aggregating by country\n",
    "excelTableFormat <- function( input, countries ){\n",
    "  toanalyze <- input\n",
    "  toanalyze$description_code <- paste0( toanalyze$description, \"*\", toanalyze$icd_code_3chars)\n",
    "  for( i in 1:length(countries)){\n",
    "    if(i ==1){\n",
    "      cc <- toanalyze[ toanalyze$Country == countries[i], c(9, 4:8)]\n",
    "      colnames(cc)[2:6] <- paste0(countries[i], \"_\", colnames(cc)[2:6])\n",
    "    }else{\n",
    "      ss <- toanalyze[ toanalyze$Country == countries[i], c(9, 4:8)]\n",
    "      colnames(ss)[2:6] <- paste0(countries[i], \"_\", colnames(ss)[2:6])\n",
    "      cc <- merge( cc, ss, all.x = TRUE, all.y = TRUE)\n",
    "    }\n",
    "  }\n",
    "  cc$code <- sapply(strsplit( as.character(cc$description_code), \"[*]\"), '[', 2)\n",
    "  cc$description<- sapply(strsplit( as.character(cc$description_code), \"[*]\"), '[', 1)\n",
    "  cc <- cc[ order(cc$USA_num_patients_all_since_admission_diagnosis, decreasing = TRUE), ]\n",
    "  return(cc)\n",
    "}"
   ]
  },
  {
   "cell_type": "markdown",
   "metadata": {},
   "source": [
    "We create the list with all the pediatric files."
   ]
  },
  {
   "cell_type": "code",
   "execution_count": null,
   "metadata": {},
   "outputs": [],
   "source": [
    "select_pediatric = TRUE\n",
    "fileListDiag <- fileList( path = \"./phase1.1/latest/\",pattern = \"Diag\", pediatric = select_pediatric)\n",
    "fileListDemog <- fileList( path = \"./phase1.1/latest/\",pattern = \"Demog\", pediatric = select_pediatric)"
   ]
  },
  {
   "cell_type": "code",
   "execution_count": null,
   "metadata": {},
   "outputs": [],
   "source": [
    "if( select_pediatric == TRUE){\n",
    "  obfuscation <- read.delim( file   = \"./phase1.1_pediatric/PediatricDiagnosis/diagnosisCount_october2020/pediatric_obfuscation.txt\", \n",
    "                             header = TRUE, sep = \"\\t\")\n",
    "}else{\n",
    "  obfuscation <- read.delim( file   = \"./phase1.1/mappingFiles/obfuscation_values.txt\", \n",
    "                             header = TRUE, sep = \"\\t\")\n",
    "  \n",
    "}"
   ]
  },
  {
   "cell_type": "markdown",
   "metadata": {},
   "source": [
    "Put together all the diagnosis data"
   ]
  },
  {
   "cell_type": "code",
   "execution_count": null,
   "metadata": {},
   "outputs": [],
   "source": [
    "for( i in 1:length( fileListDiag ) ){\n",
    "  print(i)\n",
    "  selection <- read.delim( paste0( \"./phase1.1/latest/\",fileListDiag[i]), sep = \",\", colClasses = \"character\")\n",
    "  if( grepl( \"UNC\", x=fileListDiag[i], fixed = TRUE) == TRUE ){\n",
    "    selection[ ,4:7][ selection[, 4:7] == 10] <- -99 \n",
    "  }\n",
    "  colnames(selection) <- tolower( colnames( selection ) )\n",
    "  obf <- obfuscation[ tolower(obfuscation$siteid) == tolower(selection$siteid[1]), ]\n",
    "  if( i== 1){\n",
    "    if( obf$obfuscation != \"none\"){\n",
    "      selection[ selection == -99 ] <- 0.5 * as.numeric( obf$obfuscation )\n",
    "    }\n",
    "    allDiagnosis <- selection\n",
    "  }else{ \n",
    "    if( obf$obfuscation != \"none\"){\n",
    "      selection[ selection == -99 ] <- 0.5 * as.numeric( obf$obfuscation )\n",
    "    }\n",
    "    allDiagnosis <- rbind( allDiagnosis, selection )\n",
    "    \n",
    "  }\n",
    "}\n",
    "allDiagnosis <- allDiagnosis[, c(\"siteid\", \"icd_code_3chars\", \"icd_version\", \"num_patients_all_since_admission\" )]\n",
    "colnames( allDiagnosis)[4] <- paste0( colnames( allDiagnosis)[4], \"_diagnosis\")"
   ]
  },
  {
   "cell_type": "markdown",
   "metadata": {},
   "source": [
    "Put together all the demographic data"
   ]
  },
  {
   "cell_type": "code",
   "execution_count": null,
   "metadata": {},
   "outputs": [],
   "source": [
    "for( i in 1:length( fileListDemog ) ){\n",
    "  print(i)\n",
    "  selection <- read.delim( paste0( \"./phase1.1/latest/\",fileListDemog[i]), sep = \",\", colClasses = \"character\")\n",
    "  \n",
    "  if( grepl( \"UNC\", x=fileListDemog[i], fixed = TRUE) == TRUE ){\n",
    "    selection[ selection == 10] <- -99 \n",
    "  }\n",
    "  \n",
    "  colnames( selection ) <- tolower( colnames( selection ))\n",
    "  selection <- selection[ selection$sex == \"all\" &\n",
    "                            selection$age_group == \"all\" & \n",
    "                            selection$race == \"all\", \n",
    "                          c(\"siteid\", \"sex\", \"age_group\", \"race\", \"num_patients_all\") ]\n",
    "  \n",
    "  #some sites do not report the all, all, all, so we have to compute it\n",
    "  if(nrow(selection)==0){\n",
    "    selection <- read.delim( paste0( \"./phase1.1/latest/\",fileListDemog[i]), sep = \",\", colClasses = \"character\")\n",
    "    if( grepl( \"UNC\", x=fileListDemog[i], fixed = TRUE) == TRUE ){\n",
    "      selection[ selection == 10] <- -99 \n",
    "    }\n",
    "    colnames( selection ) <- tolower( colnames( selection ))\n",
    "    selection <- selection[ selection$age_group == \"all\" & \n",
    "                              selection$race == \"all\", \n",
    "                            c(\"siteid\", \"sex\", \"age_group\", \"race\", \"num_patients_all\") ]\n",
    "    nr <- c(selection$siteid[1], \"all\", \"all\", \"all\", \n",
    "            sum(as.numeric(selection$num_patients_all)))\n",
    "    selection <- rbind( selection, nr)\n",
    "    selection <- selection[ selection$sex == \"all\" &\n",
    "                              selection$age_group == \"all\" & \n",
    "                              selection$race == \"all\", ]\n",
    "  }\n",
    "  obf <- obfuscation[ tolower(obfuscation$siteid) == tolower(selection$siteid[1]), ]\n",
    "  \n",
    "  if( i== 1){\n",
    "    if( obf$obfuscation != \"none\"){\n",
    "      selection[ selection == -99 ] <- 0.5 * as.numeric( obf$obfuscation )\n",
    "    }\n",
    "    allDemographics <- selection\n",
    "  }else{ \n",
    "    if( obf$obfuscation != \"none\"){\n",
    "      selection[ selection == -99 ] <- 0.5 * as.numeric( obf$obfuscation )\n",
    "    }\n",
    "    allDemographics <- rbind( allDemographics, selection )\n",
    "  }\n",
    "}\n",
    "allDemographics<- allDemographics[, c(\"siteid\", \"num_patients_all\")]\n",
    "colnames(allDemographics) <- c(\"siteid\", \"totalPatients\")"
   ]
  },
  {
   "cell_type": "markdown",
   "metadata": {},
   "source": [
    "Put all the information together merging all dataframes by site id and transform unknown values (-999) in NAs."
   ]
  },
  {
   "cell_type": "code",
   "execution_count": null,
   "metadata": {},
   "outputs": [],
   "source": [
    "finalDataSet <- merge( allDiagnosis, allDemographics, by = \"siteid\")\n",
    "\n",
    "#transform -999 in NA\n",
    "finalDataSet[,c(4:5)] <- sapply(finalDataSet[,c(4:5)],as.numeric)\n",
    "finalDataSet[ finalDataSet == -999 ] <- NA"
   ]
  },
  {
   "cell_type": "markdown",
   "metadata": {},
   "source": [
    "We determine a subset of ICD codes we would like to review."
   ]
  },
  {
   "cell_type": "code",
   "execution_count": null,
   "metadata": {},
   "outputs": [],
   "source": [
    "codesToReview <- c(\"J96\",\"R00\",\"J12\",\"R57\",\"J90\",\"N17\" )"
   ]
  },
  {
   "cell_type": "markdown",
   "metadata": {},
   "source": [
    "### Summary of diagnosis counts per site"
   ]
  },
  {
   "cell_type": "code",
   "execution_count": null,
   "metadata": {},
   "outputs": [],
   "source": [
    "bySite <- aggregateCounts( inputData = finalDataSet, aggregationType = \"Site\")\n",
    "\n",
    "bySite <- bySite[ order( bySite$perc_patients_since_adimission_diagnosis, decreasing = TRUE), ]\n",
    "\n",
    "\n",
    "bySiteSelection <- aggregateCounts( inputData = finalDataSet, \n",
    "                                    aggregationType = \"Site\", \n",
    "                                    codeSelection = codesToReview)\n",
    "\n",
    "\n",
    "bySiteSelection <- bySiteSelection[ order( bySiteSelection$perc_patients_since_adimission_diagnosis, \n",
    "                                    decreasing = TRUE), ]\n",
    "\n",
    "#write the output\n",
    "write.table(bySite, file=\"./siteOutput_combined.txt\", \n",
    "            col.names = TRUE, row.names = FALSE, sep = \"\\t\", quote = FALSE)\n",
    "write.table(bySiteSelection, file=\"./siteSubsetOutput.txt\", \n",
    "            col.names = TRUE, row.names = FALSE, sep = \"\\t\", quote = FALSE)"
   ]
  },
  {
   "cell_type": "markdown",
   "metadata": {},
   "source": [
    "### Summary of diagnosis counts per country"
   ]
  },
  {
   "cell_type": "code",
   "execution_count": null,
   "metadata": {},
   "outputs": [],
   "source": [
    "byCountry <- aggregateCounts( inputData = finalDataSet, aggregationType = \"Country\")\n",
    "\n",
    "byCountrySelection <- aggregateCounts( inputData = finalDataSet, \n",
    "                                       aggregationType = \"Country\", \n",
    "                                       codeSelection = codesToReview)\n",
    "\n",
    "countries <- c(\"USA\", \"France\", \"UK\", \"Spain\", \"Singapore\", \"Germany\")\n",
    "countryOutputSl <- excelTableFormat( input = byCountrySelection, \n",
    "                                     countries = countries)\n",
    "\n",
    "\n",
    "countryOutput <- excelTableFormat( input = byCountry, \n",
    "                                   countries = countries)\n",
    "                                   \n",
    "write.table(byCountry, file=\"./countryOutput.txt\", \n",
    "            col.names = TRUE, row.names = FALSE, sep = \"\\t\", quote = FALSE)\n",
    "write.table(byCountrySelection, file=\"./countrySubsetOutput.txt\", \n",
    "            col.names = TRUE, row.names = FALSE, sep = \"\\t\", quote = FALSE)"
   ]
  },
  {
   "cell_type": "markdown",
   "metadata": {},
   "source": [
    "### Summary of diagnosis counts all"
   ]
  },
  {
   "cell_type": "code",
   "execution_count": null,
   "metadata": {},
   "outputs": [],
   "source": [
    "byAll <- aggregateCounts( inputData = finalDataSet, aggregationType = \"All\")\n",
    "\n",
    "byAllSelection <- aggregateCounts( inputData = finalDataSet, \n",
    "                                   aggregationType = \"All\", \n",
    "                                   codeSelection = codesToReview)\n",
    "                                   \n",
    "write.table(byAllSelection, file=\"./allSelectionOutput.txt\", \n",
    "            col.names = TRUE, row.names = FALSE, sep = \"\\t\", quote = FALSE)\n",
    "write.table(byAll, file=\"./allOutput.txt\", \n",
    "            col.names = TRUE, row.names = FALSE, sep = \"\\t\", quote = FALSE)"
   ]
  }
 ],
 "metadata": {
  "kernelspec": {
   "display_name": "R",
   "language": "R",
   "name": "ir"
  }
 },
 "nbformat": 4,
 "nbformat_minor": 4
}
