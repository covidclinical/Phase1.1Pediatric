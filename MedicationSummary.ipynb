{
 "cells": [
  {
   "cell_type": "markdown",
   "metadata": {},
   "source": [
    "# Medication Summary Pediatrics\n",
    "\n",
    "This notebook contain the R code generate a table that summarized for each of the drug classes:\n",
    "- Number of sites treating at least 3 patients with the drug class during hospitalization\n",
    "- Countries treating at least 3 patient with the drug class\n",
    "- Total number of patients treated with the drug class during hospitalization in the previous sites\n",
    "\n",
    "First we determine the path where all the files are located and load the R libraries required. "
   ]
  },
  {
   "cell_type": "code",
   "execution_count": null,
   "metadata": {},
   "outputs": [],
   "source": [
    "rm(list=ls())\n",
    "# Set working directory where the files are\n",
    "setwd(\"./4CE/phase1.1/latest/\")\n",
    "\n",
    "#############\n",
    "# LIBRARIES #\n",
    "#############\n",
    "library(dplyr)\n",
    "library(tidyr)"
   ]
  },
  {
   "cell_type": "markdown",
   "metadata": {},
   "source": [
    "Then we create a function to define the list with all the files to analyze."
   ]
  },
  {
   "cell_type": "code",
   "execution_count": null,
   "metadata": {},
   "outputs": [],
   "source": [
    "fileList <- function( path, pattern, pediatric ){\n",
    "  \n",
    "  fileListInput <- list.files( path = path,pattern = pattern)\n",
    "  fileListInput  <- fileListInput[! grepl( paste( c(\"FICHOS\",\"VA.csv\",\"BCH.csv\",\"CHOP.csv\", \n",
    "                                                    \"RP401.csv\") , collapse = \"|\"), x = fileListInput)]\n",
    "  \n",
    "  if( pediatric == TRUE){\n",
    "    fileListInput  <- fileListInput[ grepl( paste( c(\"PED\", \"UNCCH\"), collapse = \"|\"), x = fileListInput)]\n",
    "    fileListInput <- fileListInput[! grepl(\"APHPPED.csv\", x = fileListInput) ]\n",
    "  }else{\n",
    "    fileListInput  <- fileListInput[ !grepl( paste( c(\"PED\", \"UNCCH\"), collapse = \"|\"), x = fileListInput)]\n",
    "  }\n",
    "  return( fileListInput)\n",
    "}"
   ]
  },
  {
   "cell_type": "markdown",
   "metadata": {},
   "source": [
    "We create the list with all the pediatric files."
   ]
  },
  {
   "cell_type": "code",
   "execution_count": null,
   "metadata": {},
   "outputs": [],
   "source": [
    "select_pediatric = TRUE\n",
    "fileList <- fileList( path = \"./phase1.1/latest/\",pattern = \"Med\", pediatric = select_pediatric)"
   ]
  },
  {
   "cell_type": "markdown",
   "metadata": {},
   "source": [
    "### Summary table"
   ]
  },
  {
   "cell_type": "code",
   "execution_count": null,
   "metadata": {},
   "outputs": [],
   "source": [
    "summaryTable <- as.data.frame( matrix( ncol= 3, nrow=length( fileList )))\n",
    "colnames(summaryTable) <- c(\"Site\", \"DistinctNumberOfMedications\",\n",
    "                            \"medication_list\"\n",
    ")\n",
    "\n",
    "\n",
    "obfuscation <- read.delim( file   = \"./phase1.1_pediatric/pediatric_obfuscation.txt\", \n",
    "                           header = TRUE, sep = \"\\t\")\n",
    "\n",
    "for( i in 1:length( fileList ) ){\n",
    "  print(i)\n",
    "  selection <- read.delim( paste0( \"./phase1.1/latest/\", fileList[i]), sep = \",\", colClasses = \"character\")\n",
    "  if(nrow(selection) == 0){\n",
    "    next()\n",
    "  }\n",
    "  else if(nrow(selection > 0)){\n",
    "    if( grepl( \"UNC\", x=fileList[i], fixed = TRUE) == TRUE ){\n",
    "      selection[ selection == 10] <- -99 \n",
    "    }\n",
    "    colnames(selection) <- tolower( colnames( selection ) )\n",
    "    obf <- obfuscation[ tolower(obfuscation$siteid) == tolower(selection$siteid[1]), ]\n",
    "    \n",
    "    #name of the size\n",
    "    summaryTable$Site[i] <-  as.character(selection$siteid[1])\n",
    "    \n",
    "    #number of distinct medications \n",
    "    summaryTable$DistinctNumberOfMedications[i] <- nrow( selection )\n",
    "    \n",
    "    #list of distinct medications \n",
    "    summaryTable$medication_list[i] <- paste( unique(selection$med_class),\n",
    "                                              collapse = \",\")\n",
    "    \n",
    "    \n",
    "    #merge all the files in 1\n",
    "    if( i== 1){\n",
    "      if( obf$obfuscation != \"none\"){\n",
    "        selection[ selection == -99 ] <- 0.5 * as.numeric( obf$obfuscation )\n",
    "    }\n",
    "      allMedication <- selection\n",
    "    }else{ \n",
    "      if( obf$obfuscation != \"none\"){\n",
    "        selection[ selection == -99 ] <- 0.5 * as.numeric( obf$obfuscation )\n",
    "      }\n",
    "      allMedication <- rbind( allMedication, selection )\n",
    "    }\n",
    "  }\n",
    "}\n",
    "\n",
    "allMedication[ allMedication == -999 ] <- NA\n",
    "allMedication[,c(3:6)] <- sapply(allMedication[,c(3:6)],as.numeric)"
   ]
  },
  {
   "cell_type": "markdown",
   "metadata": {},
   "source": [
    "We are only interested on those medications\n",
    "- during the hospitalization (after admission)\n",
    "- treating at least 3 patients"
   ]
  },
  {
   "cell_type": "code",
   "execution_count": null,
   "metadata": {},
   "outputs": [],
   "source": [
    "allMedication <- allMedication[, c(1,2,4)]\n",
    "allMedication <- allMedication[! is.na(allMedication$num_patients_all_since_admission), ]\n",
    "allMedication <- allMedication[ allMedication$num_patients_all_since_admission >= 3, ]"
   ]
  },
  {
   "cell_type": "markdown",
   "metadata": {},
   "source": [
    "We estimate the total number of patients prescribed with each medication."
   ]
  },
  {
   "cell_type": "code",
   "execution_count": null,
   "metadata": {},
   "outputs": [],
   "source": [
    "byDrugClass <- as.data.frame( allMedication[-1] %>% \n",
    "  group_by(med_class) %>% \n",
    "  dplyr::summarise_all(~{sum(.x, na.rm = any(!is.na(.x)))}))\n",
    "colnames(byDrugClass) <- c(\"DrugClass\", \"TotalPatients\")"
   ]
  },
  {
   "cell_type": "markdown",
   "metadata": {},
   "source": [
    "We estimate how many sites report each medication based on the previous conditions"
   ]
  },
  {
   "cell_type": "code",
   "execution_count": null,
   "metadata": {},
   "outputs": [],
   "source": [
    "medCounts <- as.data.frame( table( allMedication$med_class ))\n",
    "colnames(medCounts) <- c(\"DrugClass\", \"DistincSites\")"
   ]
  },
  {
   "cell_type": "markdown",
   "metadata": {},
   "source": [
    "We determine which are the countries of those sites."
   ]
  },
  {
   "cell_type": "code",
   "execution_count": null,
   "metadata": {},
   "outputs": [],
   "source": [
    "siteMaping <- read.delim(\"./phase1.1/mappingFiles/SiteID_Map_Pediatric_07-23-20.csv\", colClasses = \"character\", sep=\",\")\n",
    "siteMaping <- siteMaping[,c(\"Acronym\", \"Country\")]\n",
    "allMedication <- merge( allMedication, siteMaping, by.x = \"siteid\", by.y=\"Acronym\", all.x = TRUE)\n",
    "\n",
    "allMedCountry <- unique( allMedication[ , c(\"med_class\", \"Country\")] )\n",
    "allMedCountry <- allMedCountry[ order( allMedCountry$med_class, decreasing = TRUE),]\n",
    "\n",
    "medOutput <- as.data.frame( table( allMedCountry$med_class ))\n",
    "medOutput$countries <- NA\n",
    "\n",
    "for( i in 1:nrow(medOutput)){\n",
    "  medOutput$countries[i] <- paste(unique(sort(allMedCountry[ allMedCountry$med_class == medOutput$Var1[i], \"Country\"])), collapse = \",\")\n",
    "}\n",
    "colnames(medOutput) <- c(\"DrugClass\", \"DistincCountries\", \"Countries\")"
   ]
  },
  {
   "cell_type": "markdown",
   "metadata": {},
   "source": [
    "We put all the information together in a table. "
   ]
  },
  {
   "cell_type": "code",
   "execution_count": null,
   "metadata": {},
   "outputs": [],
   "source": [
    "finalMed <- merge( medCounts, medOutput)\n",
    "finalMed <- merge( finalMed, byDrugClass)\n",
    "finalMed <- finalMed[, c(\"DrugClass\", \"DistincSites\", \"Countries\", \"TotalPatients\")]\n",
    "write.table( finalMed, file=\"./table2.txt\", col.names = TRUE, row.names = FALSE, sep = \"\\t\", quote = FALSE)"
   ]
  }
 ],
 "metadata": {
  "kernelspec": {
   "display_name": "R",
   "language": "R",
   "name": "ir"
  }
 },
 "nbformat": 4,
 "nbformat_minor": 4
}
