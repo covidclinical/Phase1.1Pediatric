{
 "cells": [
  {
   "cell_type": "markdown",
   "metadata": {},
   "source": [
    "# Diagnoses Meta-Analysis Pediatrics\n",
    "\n",
    "This notebook contain the R code to conduct meta-analysis in terms of \n",
    "- percentage of patients with each ICD code\n",
    "- the 95% confidence interval of the percentage of patients with each ICD code\n",
    "\n",
    "The meta-analysis results in this script are based on the site level results. Before running this script, please run DiagnosisSummary.ipynb first, and save the site level results \"siteSubsetOutput.txt\" to your working directory."
   ]
  },
  {
   "cell_type": "code",
   "execution_count": null,
   "metadata": {},
   "outputs": [],
   "source": [
    "rm(list=ls())\n",
    "# Set working directory where the file \"siteSubsetOutput.txt\" are\n",
    "setwd(\"./4CE/phase1.1/\")\n",
    "\n",
    "#############\n",
    "# LIBRARIES #\n",
    "#############\n",
    "library(metafor)\n",
    "library(data.table)\n",
    "\n",
    "###################\n",
    "# LOAD INPUT DATA #\n",
    "###################\n",
    "dat=data.frame(fread(\"siteSubsetOutput.txt\"))"
   ]
  },
  {
   "cell_type": "markdown",
   "metadata": {},
   "source": [
    "Then we create a function for random-effects meta-analysis."
   ]
  },
  {
   "cell_type": "code",
   "execution_count": null,
   "metadata": {},
   "outputs": [],
   "source": [
    "meta.FUN=function(code,dat){\n",
    "  dat.sub=dat[dat$icd==code,c(\"description\",\"num_patients_all_since_admission_diagnosis\",\"totalPatients\")]\n",
    "  dat.sub[dat.sub[,2]==0,c(2,3)]=dat.sub[dat.sub[,2]==0,c(2,3)]+0.5\n",
    "  yi=dat.sub[,\"num_patients_all_since_admission_diagnosis\"]/dat.sub[,\"totalPatients\"]\n",
    "  vi=yi*(1-yi)/dat.sub[,\"totalPatients\"]\n",
    "  junk=rma(yi=yi, vi=vi, method=\"DL\")\n",
    "  res=c(junk$beta, junk$ci.lb, junk$ci.ub)\n",
    "  res=c(description=dat.sub$description[1], code=code, res)\n",
    "  res\n",
    "  }"
   ]
  },
  {
   "cell_type": "markdown",
   "metadata": {},
   "source": [
    "We conduct meta-analysis."
   ]
  },
  {
   "cell_type": "code",
   "execution_count": null,
   "metadata": {},
   "outputs": [],
   "source": [
    "code.list=unique(dat$icd)\n",
    "res_Meta=data.frame(do.call(rbind, lapply(code.list, function(code) meta.FUN(code,dat))))\n",
    "rownames(res_Meta)=NULL"
   ]
  }
 ],
 "metadata": {
  "kernelspec": {
   "display_name": "R",
   "language": "R",
   "name": "ir"
  }
 },
 "nbformat": 4,
 "nbformat_minor": 4
}
